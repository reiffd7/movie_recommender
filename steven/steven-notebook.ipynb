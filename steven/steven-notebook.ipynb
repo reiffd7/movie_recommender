{
 "cells": [
  {
   "cell_type": "code",
<<<<<<< HEAD
   "execution_count": 1,
=======
   "execution_count": 95,
   "metadata": {},
   "outputs": [
    {
     "name": "stdout",
     "output_type": "stream",
     "text": [
      "Requirement already satisfied: scikit-surprise==1.0.1 in /opt/conda/lib/python3.7/site-packages (1.0.1)\n",
      "Requirement already satisfied: six>=1.10.0 in /opt/conda/lib/python3.7/site-packages (from scikit-surprise==1.0.1) (1.12.0)\n",
      "Requirement already satisfied: numpy>=1.11.2 in /opt/conda/lib/python3.7/site-packages (from scikit-surprise==1.0.1) (1.17.0)\n"
     ]
    }
   ],
   "source": [
    "!pip install scikit-surprise==1.0.1"
   ]
  },
  {
   "cell_type": "code",
   "execution_count": 100,
>>>>>>> 418292bb43ad3185a22555a15f405a00100b6086
   "metadata": {},
   "outputs": [],
   "source": [
    "import numpy as np\n",
    "import pandas as pd\n",
    "\n",
    "import pyspark as ps\n",
    "from pyspark.sql import SparkSession\n",
    "import pyspark.sql.functions as F\n",
    "from pyspark.mllib.recommendation import ALS, MatrixFactorizationModel, Rating\n",
    "\n",
    "from surprise import AlgoBase, Dataset, evaluate\n",
    "\n",
    "import matplotlib.pyplot as plt"
   ]
  },
  {
   "cell_type": "markdown",
   "metadata": {},
   "source": [
    "Initialize Spark Context"
   ]
  },
  {
   "cell_type": "code",
   "execution_count": 101,
   "metadata": {},
   "outputs": [],
   "source": [
    "spark = ps.sql.SparkSession.builder \\\n",
    "            .master(\"local[2]\") \\\n",
    "            .appName(\"matrix factorization\") \\\n",
    "            .getOrCreate()\n",
    "\n",
    "sc = spark.sparkContext"
   ]
  },
  {
   "cell_type": "markdown",
   "metadata": {},
   "source": [
    "Read in data"
   ]
  },
  {
   "cell_type": "code",
<<<<<<< HEAD
   "execution_count": 3,
=======
   "execution_count": 102,
>>>>>>> 418292bb43ad3185a22555a15f405a00100b6086
   "metadata": {},
   "outputs": [],
   "source": [
    "ratings = spark.read \\\n",
    "    .options(inferSchema=True, delimiter=',', header=True) \\\n",
    "    .csv('../data/movies/ratings.csv')"
   ]
  },
  {
   "cell_type": "code",
<<<<<<< HEAD
   "execution_count": 4,
=======
   "execution_count": 103,
>>>>>>> 418292bb43ad3185a22555a15f405a00100b6086
   "metadata": {},
   "outputs": [],
   "source": [
    "ratings = ratings.drop('timestamp')"
   ]
  },
  {
   "cell_type": "code",
<<<<<<< HEAD
   "execution_count": 5,
=======
   "execution_count": 104,
>>>>>>> 418292bb43ad3185a22555a15f405a00100b6086
   "metadata": {},
   "outputs": [
    {
     "data": {
      "text/plain": [
       "[Row(userId=1, movieId=31, rating=2.5),\n",
       " Row(userId=1, movieId=1029, rating=3.0)]"
      ]
     },
<<<<<<< HEAD
     "execution_count": 5,
=======
     "execution_count": 104,
>>>>>>> 418292bb43ad3185a22555a15f405a00100b6086
     "metadata": {},
     "output_type": "execute_result"
    }
   ],
   "source": [
    "ratings.take(2)"
   ]
  },
  {
   "cell_type": "markdown",
   "metadata": {},
   "source": [
    "# Try training basic ALS model\n",
    "Reference: https://spark.apache.org/docs/latest/mllib-collaborative-filtering.html"
   ]
  },
  {
   "cell_type": "code",
<<<<<<< HEAD
   "execution_count": 6,
=======
   "execution_count": 105,
>>>>>>> 418292bb43ad3185a22555a15f405a00100b6086
   "metadata": {},
   "outputs": [],
   "source": [
    "ratings = ratings.rdd"
   ]
  },
  {
   "cell_type": "code",
<<<<<<< HEAD
   "execution_count": 7,
=======
   "execution_count": 106,
>>>>>>> 418292bb43ad3185a22555a15f405a00100b6086
   "metadata": {},
   "outputs": [
    {
     "name": "stdout",
     "output_type": "stream",
     "text": [
<<<<<<< HEAD
      "Mean Squared Error = 0.27626449876458614\n"
=======
      "Mean Squared Error = 0.27402138544308013\n"
>>>>>>> 418292bb43ad3185a22555a15f405a00100b6086
     ]
    }
   ],
   "source": [
    "# Build the recommendation model using Alternating Least Squares\n",
    "rank = 10\n",
    "numIterations = 10\n",
    "model = ALS.train(ratings, rank, numIterations)\n",
    "\n",
    "# Evaluate the model on training data\n",
    "testdata = ratings.map(lambda p: (p[0], p[1]))\n",
    "predictions = model.predictAll(testdata).map(lambda r: ((r[0], r[1]), r[2]))\n",
    "ratesAndPreds = ratings.map(lambda r: ((r[0], r[1]), r[2])).join(predictions)\n",
    "MSE = ratesAndPreds.map(lambda r: (r[1][0] - r[1][1])**2).mean()\n",
    "print(\"Mean Squared Error = \" + str(MSE))"
   ]
  },
  {
   "cell_type": "code",
<<<<<<< HEAD
   "execution_count": 8,
=======
   "execution_count": 107,
>>>>>>> 418292bb43ad3185a22555a15f405a00100b6086
   "metadata": {},
   "outputs": [
    {
     "name": "stdout",
     "output_type": "stream",
     "text": [
<<<<<<< HEAD
      "RMSE = 0.5256086935778232\n"
=======
      "RMSE = 0.5234705201280012\n"
>>>>>>> 418292bb43ad3185a22555a15f405a00100b6086
     ]
    }
   ],
   "source": [
    "print(f\"RMSE = {np.sqrt(MSE)}\")"
   ]
  },
  {
   "cell_type": "markdown",
   "metadata": {},
   "source": [
    "## See if the predictions make sense"
   ]
  },
  {
   "cell_type": "code",
<<<<<<< HEAD
   "execution_count": 9,
=======
   "execution_count": 108,
>>>>>>> 418292bb43ad3185a22555a15f405a00100b6086
   "metadata": {},
   "outputs": [
    {
     "name": "stdout",
     "output_type": "stream",
     "text": [
      "Sample actual user ratings: [2.5 3.  3.  2.  4.  2.  2.  2.  3.5 2. ]\n"
     ]
    }
   ],
   "source": [
    "user_ratings = np.array(ratings.map(lambda r: r[2]).collect())\n",
    "print(\"Sample actual user ratings:\", user_ratings[:10])"
   ]
  },
  {
   "cell_type": "code",
<<<<<<< HEAD
   "execution_count": 10,
=======
   "execution_count": 109,
>>>>>>> 418292bb43ad3185a22555a15f405a00100b6086
   "metadata": {},
   "outputs": [
    {
     "name": "stdout",
     "output_type": "stream",
     "text": [
<<<<<<< HEAD
      "Sample user predictions: [2.7 2.8 2.8 2.2 3.7 2.  2.2 2.5 3.4 2.4]\n"
=======
      "Sample user predictions: [2.6 2.5 2.5 2.2 3.6 2.3 2.4 2.6 3.3 2.1]\n"
>>>>>>> 418292bb43ad3185a22555a15f405a00100b6086
     ]
    }
   ],
   "source": [
    "user_predictions = np.array(predictions.sortBy(lambda x: x[0]).map(lambda x: x[1]).collect())\n",
    "print(\"Sample user predictions:\", user_predictions[:10].round(1))"
   ]
  },
  {
   "cell_type": "code",
<<<<<<< HEAD
   "execution_count": 11,
=======
   "execution_count": 110,
>>>>>>> 418292bb43ad3185a22555a15f405a00100b6086
   "metadata": {},
   "outputs": [
    {
     "name": "stdout",
     "output_type": "stream",
     "text": [
<<<<<<< HEAD
      "Sample difference between predicted and actual: [ 0.2 -0.2 -0.2  0.2 -0.3  0.   0.2  0.5 -0.1  0.4]\n"
=======
      "Sample difference between predicted and actual: [ 0.1 -0.5 -0.5  0.2 -0.4  0.3  0.4  0.6 -0.2  0.1]\n"
>>>>>>> 418292bb43ad3185a22555a15f405a00100b6086
     ]
    }
   ],
   "source": [
    "predicted_minus_actual = (user_predictions - user_ratings).round(1)\n",
    "print(\"Sample difference between predicted and actual:\", predicted_minus_actual[:10])"
   ]
  },
  {
   "cell_type": "code",
<<<<<<< HEAD
   "execution_count": 12,
=======
   "execution_count": 111,
>>>>>>> 418292bb43ad3185a22555a15f405a00100b6086
   "metadata": {},
   "outputs": [
    {
     "data": {
<<<<<<< HEAD
      "image/png": "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\n",
=======
      "image/png": "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\n",
>>>>>>> 418292bb43ad3185a22555a15f405a00100b6086
      "text/plain": [
       "<Figure size 432x288 with 1 Axes>"
      ]
     },
     "metadata": {
      "needs_background": "light"
     },
     "output_type": "display_data"
    }
   ],
   "source": [
    "_ = plt.hist(sorted(predicted_minus_actual), bins=30)\n",
    "_ = plt.title(\"Histogram of Predicted Minus Actual Ratings\")"
   ]
  },
  {
   "cell_type": "markdown",
   "metadata": {},
   "source": [
    "# MeanOfMeans"
   ]
  },
  {
   "cell_type": "code",
   "execution_count": 132,
   "metadata": {},
   "outputs": [],
   "source": [
    "ratings_df = ratings.toDF().toPandas()"
   ]
  },
  {
   "cell_type": "code",
   "execution_count": 148,
   "metadata": {},
   "outputs": [],
   "source": [
    "class MeanOfMeans:\n",
    "    \n",
    "    def __init__(self):\n",
    "        pass\n",
    "    \n",
    "    def fit(self, ratings_df):\n",
    "        users = ratings_df['userId'].values\n",
    "        items = ratings_df['movieId'].values\n",
    "        ratings = ratings_df['rating'].values\n",
    "\n",
    "        user_means, item_means = {}, {}\n",
    "\n",
    "        for user in np.unique(users):\n",
    "            user_means[user] = ratings[users==user].mean()\n",
    "        for item in np.unique(items):\n",
    "            item_means[item] = ratings[items==item].mean()\n",
    "\n",
    "        global_mean = ratings.mean()\n",
    "        self.global_mean = global_mean\n",
    "        self.user_means = user_means\n",
    "        self.item_means = item_means\n",
    "\n",
    "    def estimate(self, u, i):\n",
    "        \"\"\"\n",
    "        return the mean of means estimate\n",
    "        \"\"\"\n",
    "\n",
    "        if u not in self.user_means:\n",
    "            return(np.mean([self.global_mean,\n",
    "                            self.item_means[i]]))\n",
    "\n",
    "        if i not in self.item_means:\n",
    "            return(np.mean([self.global_mean,\n",
    "                            self.user_means[u]]))\n",
    "\n",
    "        return(np.mean([self.global_mean,\n",
    "                        self.user_means[u],\n",
    "                        self.item_means[i]]))"
   ]
  },
  {
   "cell_type": "code",
   "execution_count": 151,
   "metadata": {},
   "outputs": [],
   "source": [
    "algo = MeanOfMeans()"
   ]
  },
  {
   "cell_type": "code",
   "execution_count": 152,
   "metadata": {},
   "outputs": [],
   "source": [
    "algo.fit(ratings_df)"
   ]
  },
  {
   "cell_type": "code",
   "execution_count": 154,
   "metadata": {},
   "outputs": [
    {
     "data": {
      "text/plain": [
       "3.165159138182759"
      ]
     },
     "execution_count": 154,
     "metadata": {},
     "output_type": "execute_result"
    }
   ],
   "source": [
    "algo.estimate(1, 2)"
   ]
  },
  {
   "cell_type": "code",
   "execution_count": 161,
   "metadata": {},
   "outputs": [],
   "source": [
    "real_ratings = []\n",
    "predictions = []\n",
    "for _, u, i, r in ratings_df.itertuples():\n",
    "    real_ratings.append(r)\n",
    "    predictions.append(algo.estimate(u, i))"
   ]
  },
  {
   "cell_type": "code",
   "execution_count": 164,
   "metadata": {},
   "outputs": [],
   "source": [
    "real_ratings = np.array(real_ratings)\n",
    "predictions = np.array(predictions)"
   ]
  },
  {
   "cell_type": "code",
   "execution_count": 165,
   "metadata": {},
   "outputs": [
    {
     "data": {
      "text/plain": [
       "100004"
      ]
     },
     "execution_count": 165,
     "metadata": {},
     "output_type": "execute_result"
    }
   ],
   "source": [
    "len(real_ratings)"
   ]
  },
  {
   "cell_type": "code",
   "execution_count": 166,
   "metadata": {},
   "outputs": [
    {
     "data": {
      "text/plain": [
       "100004"
      ]
     },
     "execution_count": 166,
     "metadata": {},
     "output_type": "execute_result"
    }
   ],
   "source": [
    "len(predictions)"
   ]
  },
  {
   "cell_type": "code",
   "execution_count": 170,
   "metadata": {},
   "outputs": [],
   "source": [
    "predicted_minus_actual_mean_of_means = predictions - real_ratings"
   ]
  },
  {
   "cell_type": "code",
   "execution_count": 168,
   "metadata": {},
   "outputs": [
    {
     "data": {
      "image/png": "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\n",
      "text/plain": [
       "<Figure size 432x288 with 1 Axes>"
      ]
     },
     "metadata": {
      "needs_background": "light"
     },
     "output_type": "display_data"
    }
   ],
   "source": [
    "_ = plt.hist(sorted(predicted_minus_actual_mean_of_means), bins=30)\n",
    "_ = plt.title(\"Mean of Means - Histogram of Predicted Minus Actual Ratings\")"
   ]
  },
  {
   "cell_type": "markdown",
   "metadata": {},
   "source": [
    "# Let's look at the residual distributions for Mean of Means vs. ALS"
   ]
  },
  {
   "cell_type": "code",
   "execution_count": 175,
   "metadata": {},
   "outputs": [
    {
     "data": {
      "image/png": "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\n",
      "text/plain": [
       "<Figure size 432x288 with 1 Axes>"
      ]
     },
     "metadata": {
      "needs_background": "light"
     },
     "output_type": "display_data"
    }
   ],
   "source": [
    "_ = plt.hist(sorted(predicted_minus_actual), bins=30, alpha=0.5, label='ALS')\n",
    "_ = plt.hist(sorted(predicted_minus_actual_mean_of_means), bins=30, alpha=0.5, label='Mean of Means')\n",
    "_ = plt.legend()"
   ]
  },
  {
   "cell_type": "code",
   "execution_count": null,
   "metadata": {},
   "outputs": [],
   "source": []
  }
 ],
 "metadata": {
  "kernelspec": {
   "display_name": "Python 3",
   "language": "python",
   "name": "python3"
  },
  "language_info": {
   "codemirror_mode": {
    "name": "ipython",
    "version": 3
   },
   "file_extension": ".py",
   "mimetype": "text/x-python",
   "name": "python",
   "nbconvert_exporter": "python",
   "pygments_lexer": "ipython3",
   "version": "3.7.3"
  }
 },
 "nbformat": 4,
 "nbformat_minor": 4
}
